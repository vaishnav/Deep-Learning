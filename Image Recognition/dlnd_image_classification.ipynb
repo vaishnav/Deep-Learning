{
 "cells": [
  {
   "cell_type": "markdown",
   "metadata": {
    "collapsed": true
   },
   "source": [
    "# Image Classification\n",
    "In this project, you'll classify images from the [CIFAR-10 dataset](https://www.cs.toronto.edu/~kriz/cifar.html).  The dataset consists of airplanes, dogs, cats, and other objects. You'll preprocess the images, then train a convolutional neural network on all the samples. The images need to be normalized and the labels need to be one-hot encoded.  You'll get to apply what you learned and build a convolutional, max pooling, dropout, and fully connected layers.  At the end, you'll get to see your neural network's predictions on the sample images.\n",
    "## Get the Data\n",
    "Run the following cell to download the [CIFAR-10 dataset for python](https://www.cs.toronto.edu/~kriz/cifar-10-python.tar.gz)."
   ]
  },
  {
   "cell_type": "code",
   "execution_count": 1,
   "metadata": {},
   "outputs": [
    {
     "name": "stdout",
     "output_type": "stream",
     "text": [
      "All files found!\n"
     ]
    }
   ],
   "source": [
    "\"\"\"\n",
    "DON'T MODIFY ANYTHING IN THIS CELL THAT IS BELOW THIS LINE\n",
    "\"\"\"\n",
    "from urllib.request import urlretrieve\n",
    "from os.path import isfile, isdir\n",
    "from tqdm import tqdm\n",
    "import problem_unittests as tests\n",
    "import tarfile\n",
    "\n",
    "cifar10_dataset_folder_path = 'cifar-10-batches-py'\n",
    "\n",
    "# Use Floyd's cifar-10 dataset if present\n",
    "floyd_cifar10_location = '/input/cifar-10/python.tar.gz'\n",
    "if isfile(floyd_cifar10_location):\n",
    "    tar_gz_path = floyd_cifar10_location\n",
    "else:\n",
    "    tar_gz_path = 'cifar-10-python.tar.gz'\n",
    "\n",
    "class DLProgress(tqdm):\n",
    "    last_block = 0\n",
    "\n",
    "    def hook(self, block_num=1, block_size=1, total_size=None):\n",
    "        self.total = total_size\n",
    "        self.update((block_num - self.last_block) * block_size)\n",
    "        self.last_block = block_num\n",
    "\n",
    "if not isfile(tar_gz_path):\n",
    "    with DLProgress(unit='B', unit_scale=True, miniters=1, desc='CIFAR-10 Dataset') as pbar:\n",
    "        urlretrieve(\n",
    "            'https://www.cs.toronto.edu/~kriz/cifar-10-python.tar.gz',\n",
    "            tar_gz_path,\n",
    "            pbar.hook)\n",
    "\n",
    "if not isdir(cifar10_dataset_folder_path):\n",
    "    with tarfile.open(tar_gz_path) as tar:\n",
    "        tar.extractall()\n",
    "        tar.close()\n",
    "\n",
    "\n",
    "tests.test_folder_path(cifar10_dataset_folder_path)"
   ]
  },
  {
   "cell_type": "markdown",
   "metadata": {},
   "source": [
    "## Explore the Data\n",
    "The dataset is broken into batches to prevent your machine from running out of memory.  The CIFAR-10 dataset consists of 5 batches, named `data_batch_1`, `data_batch_2`, etc.. Each batch contains the labels and images that are one of the following:\n",
    "* airplane\n",
    "* automobile\n",
    "* bird\n",
    "* cat\n",
    "* deer\n",
    "* dog\n",
    "* frog\n",
    "* horse\n",
    "* ship\n",
    "* truck\n",
    "\n",
    "Understanding a dataset is part of making predictions on the data.  Play around with the code cell below by changing the `batch_id` and `sample_id`. The `batch_id` is the id for a batch (1-5). The `sample_id` is the id for a image and label pair in the batch.\n",
    "\n",
    "Ask yourself \"What are all possible labels?\", \"What is the range of values for the image data?\", \"Are the labels in order or random?\".  Answers to questions like these will help you preprocess the data and end up with better predictions."
   ]
  },
  {
   "cell_type": "code",
   "execution_count": 2,
   "metadata": {},
   "outputs": [
    {
     "name": "stdout",
     "output_type": "stream",
     "text": [
      "\n",
      "Stats of batch 4:\n",
      "Samples: 10000\n",
      "Label Counts: {0: 1003, 1: 963, 2: 1041, 3: 976, 4: 1004, 5: 1021, 6: 1004, 7: 981, 8: 1024, 9: 983}\n",
      "First 20 Labels: [0, 6, 0, 2, 7, 2, 1, 2, 4, 1, 5, 6, 6, 3, 1, 3, 5, 5, 8, 1]\n",
      "\n",
      "Example of Image 1:\n",
      "Image - Min Value: 0 Max Value: 246\n",
      "Image - Shape: (32, 32, 3)\n",
      "Label - Label Id: 6 Name: frog\n"
     ]
    },
    {
     "data": {
      "image/png": "[encoded data removed]",
      "text/plain": [
       "<matplotlib.figure.Figure at 0x7f5cbad5a8d0>"
      ]
     },
     "metadata": {
      "image/png": {
       "height": 250,
       "width": 253
      }
     },
     "output_type": "display_data"
    }
   ],
   "source": [
    "%matplotlib inline\n",
    "%config InlineBackend.figure_format = 'retina'\n",
    "\n",
    "import helper\n",
    "import numpy as np\n",
    "\n",
    "# Explore the dataset\n",
    "batch_id = 4\n",
    "sample_id = 1\n",
    "helper.display_stats(cifar10_dataset_folder_path, batch_id, sample_id)"
   ]
  },
  {
   "cell_type": "markdown",
   "metadata": {},
   "source": [
    "## Implement Preprocess Functions\n",
    "### Normalize\n",
    "In the cell below, implement the `normalize` function to take in image data, `x`, and return it as a normalized Numpy array. The values should be in the range of 0 to 1, inclusive.  The return object should be the same shape as `x`."
   ]
  },
  {
   "cell_type": "code",
   "execution_count": 3,
   "metadata": {},
   "outputs": [
    {
     "name": "stdout",
     "output_type": "stream",
     "text": [
      "Tests Passed\n"
     ]
    }
   ],
   "source": [
    "def normalize(x):\n",
    "    \"\"\"\n",
    "    Normalize a list of sample image data in the range of 0 to 1\n",
    "    : x: List of image data.  The image shape is (32, 32, 3)\n",
    "    : return: Numpy array of normalize data\n",
    "    \"\"\"\n",
    "    a = 0\n",
    "    b = 1\n",
    "    # TODO: Implement Function\n",
    "    # Formula = a + (X-Xmin)(b-a)/(Xmax-Xmin)\n",
    "    return np.add(a,np.divide(np.multiply(x-np.min(x), (b-a)), np.max(x) - np.min(x)))\n",
    "\n",
    "\n",
    "\"\"\"\n",
    "DON'T MODIFY ANYTHING IN THIS CELL THAT IS BELOW THIS LINE\n",
    "\"\"\"\n",
    "tests.test_normalize(normalize)"
   ]
  },
  {
   "cell_type": "markdown",
   "metadata": {},
   "source": [
    "### One-hot encode\n",
    "Just like the previous code cell, you'll be implementing a function for preprocessing.  This time, you'll implement the `one_hot_encode` function. The input, `x`, are a list of labels.  Implement the function to return the list of labels as One-Hot encoded Numpy array.  The possible values for labels are 0 to 9. The one-hot encoding function should return the same encoding for each value between each call to `one_hot_encode`.  Make sure to save the map of encodings outside the function.\n",
    "\n",
    "Hint: Don't reinvent the wheel."
   ]
  },
  {
   "cell_type": "code",
   "execution_count": 4,
   "metadata": {},
   "outputs": [
    {
     "name": "stdout",
     "output_type": "stream",
     "text": [
      "Tests Passed\n"
     ]
    }
   ],
   "source": [
    "from sklearn.preprocessing import OneHotEncoder\n",
    "def one_hot_encode(x):\n",
    "    \"\"\"\n",
    "    One hot encode a list of sample labels. Return a one-hot encoded vector for each label.\n",
    "    : x: List of sample Labels\n",
    "    : return: Numpy array of one-hot encoded labels\n",
    "    \"\"\"\n",
    "    # TODO: Implement Function\n",
    "    \n",
    "    enc = OneHotEncoder(n_values=10)    \n",
    "    one_hot_encoded_labels = enc.fit_transform(np.array(x).reshape(-1, 1)).toarray()\n",
    "    return one_hot_encoded_labels\n",
    "\n",
    "    \n",
    "\n",
    "\"\"\"\n",
    "DON'T MODIFY ANYTHING IN THIS CELL THAT IS BELOW THIS LINE\n",
    "\"\"\"\n",
    "tests.test_one_hot_encode(one_hot_encode)"
   ]
  },
  {
   "cell_type": "markdown",
   "metadata": {},
   "source": [
    "### Randomize Data\n",
    "As you saw from exploring the data above, the order of the samples are randomized.  It doesn't hurt to randomize it again, but you don't need to for this dataset."
   ]
  },
  {
   "cell_type": "markdown",
   "metadata": {},
   "source": [
    "## Preprocess all the data and save it\n",
    "Running the code cell below will preprocess all the CIFAR-10 data and save it to file. The code below also uses 10% of the training data for validation."
   ]
  },
  {
   "cell_type": "code",
   "execution_count": 5,
   "metadata": {},
   "outputs": [],
   "source": [
    "\"\"\"\n",
    "DON'T MODIFY ANYTHING IN THIS CELL\n",
    "\"\"\"\n",
    "# Preprocess Training, Validation, and Testing Data\n",
    "helper.preprocess_and_save_data(cifar10_dataset_folder_path, normalize, one_hot_encode)"
   ]
  },
  {
   "cell_type": "markdown",
   "metadata": {},
   "source": [
    "# Check Point\n",
    "This is your first checkpoint.  If you ever decide to come back to this notebook or have to restart the notebook, you can start from here.  The preprocessed data has been saved to disk."
   ]
  },
  {
   "cell_type": "code",
   "execution_count": 6,
   "metadata": {
    "collapsed": true
   },
   "outputs": [],
   "source": [
    "\"\"\"\n",
    "DON'T MODIFY ANYTHING IN THIS CELL\n",
    "\"\"\"\n",
    "import pickle\n",
    "import problem_unittests as tests\n",
    "import helper\n",
    "\n",
    "# Load the Preprocessed Validation data\n",
    "valid_features, valid_labels = pickle.load(open('preprocess_validation.p', mode='rb'))"
   ]
  },
  {
   "cell_type": "markdown",
   "metadata": {},
   "source": [
    "## Build the network\n",
    "For the neural network, you'll build each layer into a function.  Most of the code you've seen has been outside of functions. To test your code more thoroughly, we require that you put each layer in a function.  This allows us to give you better feedback and test for simple mistakes using our unittests before you submit your project.\n",
    "\n",
    ">**Note:** If you're finding it hard to dedicate enough time for this course each week, we've provided a small shortcut to this part of the project. In the next couple of problems, you'll have the option to use classes from the [TensorFlow Layers](https://www.tensorflow.org/api_docs/python/tf/layers) or [TensorFlow Layers (contrib)](https://www.tensorflow.org/api_guides/python/contrib.layers) packages to build each layer, except the layers you build in the \"Convolutional and Max Pooling Layer\" section.  TF Layers is similar to Keras's and TFLearn's abstraction to layers, so it's easy to pickup.\n",
    "\n",
    ">However, if you would like to get the most out of this course, try to solve all the problems _without_ using anything from the TF Layers packages. You **can** still use classes from other packages that happen to have the same name as ones you find in TF Layers! For example, instead of using the TF Layers version of the `conv2d` class, [tf.layers.conv2d](https://www.tensorflow.org/api_docs/python/tf/layers/conv2d), you would want to use the TF Neural Network version of `conv2d`, [tf.nn.conv2d](https://www.tensorflow.org/api_docs/python/tf/nn/conv2d). \n",
    "\n",
    "Let's begin!\n",
    "\n",
    "### Input\n",
    "The neural network needs to read the image data, one-hot encoded labels, and dropout keep probability. Implement the following functions\n",
    "* Implement `neural_net_image_input`\n",
    " * Return a [TF Placeholder](https://www.tensorflow.org/api_docs/python/tf/placeholder)\n",
    " * Set the shape using `image_shape` with batch size set to `None`.\n",
    " * Name the TensorFlow placeholder \"x\" using the TensorFlow `name` parameter in the [TF Placeholder](https://www.tensorflow.org/api_docs/python/tf/placeholder).\n",
    "* Implement `neural_net_label_input`\n",
    " * Return a [TF Placeholder](https://www.tensorflow.org/api_docs/python/tf/placeholder)\n",
    " * Set the shape using `n_classes` with batch size set to `None`.\n",
    " * Name the TensorFlow placeholder \"y\" using the TensorFlow `name` parameter in the [TF Placeholder](https://www.tensorflow.org/api_docs/python/tf/placeholder).\n",
    "* Implement `neural_net_keep_prob_input`\n",
    " * Return a [TF Placeholder](https://www.tensorflow.org/api_docs/python/tf/placeholder) for dropout keep probability.\n",
    " * Name the TensorFlow placeholder \"keep_prob\" using the TensorFlow `name` parameter in the [TF Placeholder](https://www.tensorflow.org/api_docs/python/tf/placeholder).\n",
    "\n",
    "These names will be used at the end of the project to load your saved model.\n",
    "\n",
    "Note: `None` for shapes in TensorFlow allow for a dynamic size."
   ]
  },
  {
   "cell_type": "code",
   "execution_count": 7,
   "metadata": {},
   "outputs": [
    {
     "name": "stdout",
     "output_type": "stream",
     "text": [
      "(32, 32, 3)\n",
      "Image Input Tests Passed.\n",
      "Label Input Tests Passed.\n",
      "Keep Prob Tests Passed.\n"
     ]
    }
   ],
   "source": [
    "import tensorflow as tf\n",
    "\n",
    "def neural_net_image_input(image_shape):\n",
    "    print(image_shape)\n",
    "    \"\"\"\n",
    "    Return a Tensor for a batch of image input\n",
    "    : image_shape: Shape of the images\n",
    "    : return: Tensor for image input.\n",
    "    \"\"\"\n",
    "    # TODO: Implement Function\n",
    "    return tf.placeholder(tf.float32, shape=[None, image_shape[0], image_shape[1], image_shape[2]], name='x');\n",
    "\n",
    "\n",
    "def neural_net_label_input(n_classes):\n",
    "    \"\"\"\n",
    "    Return a Tensor for a batch of label input\n",
    "    : n_classes: Number of classes\n",
    "    : return: Tensor for label input.\n",
    "    \"\"\"\n",
    "    # TODO: Implement Function\n",
    "    return tf.placeholder(tf.float32, shape=[None, n_classes], name='y')\n",
    "\n",
    "\n",
    "def neural_net_keep_prob_input():\n",
    "    \"\"\"\n",
    "    Return a Tensor for keep probability\n",
    "    : return: Tensor for keep probability.\n",
    "    \"\"\"\n",
    "    # TODO: Implement Function\n",
    "    return tf.placeholder(tf.float32, shape=None, name='keep_prob')\n",
    "    \n",
    "\n",
    "\n",
    "\"\"\"\n",
    "DON'T MODIFY ANYTHING IN THIS CELL THAT IS BELOW THIS LINE\n",
    "\"\"\"\n",
    "tf.reset_default_graph()\n",
    "tests.test_nn_image_inputs(neural_net_image_input)\n",
    "tests.test_nn_label_inputs(neural_net_label_input)\n",
    "tests.test_nn_keep_prob_inputs(neural_net_keep_prob_input)"
   ]
  },
  {
   "cell_type": "markdown",
   "metadata": {},
   "source": [
    "### Convolution and Max Pooling Layer\n",
    "Convolution layers have a lot of success with images. For this code cell, you should implement the function `conv2d_maxpool` to apply convolution then max pooling:\n",
    "* Create the weight and bias using `conv_ksize`, `conv_num_outputs` and the shape of `x_tensor`.\n",
    "* Apply a convolution to `x_tensor` using weight and `conv_strides`.\n",
    " * We recommend you use same padding, but you're welcome to use any padding.\n",
    "* Add bias\n",
    "* Add a nonlinear activation to the convolution.\n",
    "* Apply Max Pooling using `pool_ksize` and `pool_strides`.\n",
    " * We recommend you use same padding, but you're welcome to use any padding.\n",
    "\n",
    "**Note:** You **can't** use [TensorFlow Layers](https://www.tensorflow.org/api_docs/python/tf/layers) or [TensorFlow Layers (contrib)](https://www.tensorflow.org/api_guides/python/contrib.layers) for **this** layer, but you can still use TensorFlow's [Neural Network](https://www.tensorflow.org/api_docs/python/tf/nn) package. You may still use the shortcut option for all the **other** layers."
   ]
  },
  {
   "cell_type": "code",
   "execution_count": 8,
   "metadata": {},
   "outputs": [
    {
     "name": "stdout",
     "output_type": "stream",
     "text": [
      "Tests Passed\n"
     ]
    }
   ],
   "source": [
    "def conv2d_maxpool(x_tensor, conv_num_outputs, conv_ksize, conv_strides, pool_ksize, pool_strides):\n",
    "    a, x, y , z = x_tensor.get_shape()\n",
    "    \"\"\"\n",
    "    Apply convolution then max pooling to x_tensor\n",
    "    :param x_tensor: TensorFlow Tensor\n",
    "    :param conv_num_outputs: Number of outputs for the convolutional layer\n",
    "    :param conv_ksize: kernal size 2-D Tuple for the convolutional layer\n",
    "    :param conv_strides: Stride 2-D Tuple for convolution\n",
    "    :param pool_ksize: kernal size 2-D Tuple for pool\n",
    "    :param pool_strides: Stride 2-D Tuple for pool\n",
    "    : return: A tensor that represents convolution and max pooling of x_tensor\n",
    "    \"\"\"\n",
    "    # TODO: Implement Function\n",
    "    weight = tf.Variable(tf.truncated_normal(shape=[conv_ksize[0], conv_ksize[1], int(z), conv_num_outputs], stddev=0.1))\n",
    "    bias = tf.Variable(tf.zeros([conv_num_outputs]))\n",
    "    x_tensor = tf.nn.conv2d(x_tensor, weight, strides=[1, conv_strides[0], conv_strides[1], 1], padding='SAME')\n",
    "    x_tensor = tf.nn.bias_add(x_tensor, bias)\n",
    "    x_tensor = tf.nn.relu(x_tensor)\n",
    "    x_tensor = tf.nn.max_pool(x_tensor,ksize=[1, pool_ksize[0], pool_ksize[1], 1], strides=[1, pool_ksize[0], pool_ksize[1], 1], padding='SAME')\n",
    "    return x_tensor\n",
    "\n",
    "\n",
    "\"\"\"\n",
    "DON'T MODIFY ANYTHING IN THIS CELL THAT IS BELOW THIS LINE\n",
    "\"\"\"\n",
    "tests.test_con_pool(conv2d_maxpool)"
   ]
  },
  {
   "cell_type": "markdown",
   "metadata": {},
   "source": [
    "### Flatten Layer\n",
    "Implement the `flatten` function to change the dimension of `x_tensor` from a 4-D tensor to a 2-D tensor.  The output should be the shape (*Batch Size*, *Flattened Image Size*). Shortcut option: you can use classes from the [TensorFlow Layers](https://www.tensorflow.org/api_docs/python/tf/layers) or [TensorFlow Layers (contrib)](https://www.tensorflow.org/api_guides/python/contrib.layers) packages for this layer. For more of a challenge, only use other TensorFlow packages."
   ]
  },
  {
   "cell_type": "code",
   "execution_count": 9,
   "metadata": {},
   "outputs": [
    {
     "name": "stdout",
     "output_type": "stream",
     "text": [
      "Tests Passed\n"
     ]
    }
   ],
   "source": [
    "def flatten(x_tensor):\n",
    "    \"\"\"\n",
    "    Flatten x_tensor to (Batch Size, Flattened Image Size)\n",
    "    : x_tensor: A tensor of size (Batch Size, ...), where ... are the image dimensions.\n",
    "    : return: A tensor of size (Batch Size, Flattened Image Size).\n",
    "    \"\"\"\n",
    "    # TODO: Implement Function\n",
    "    a, x, y, z = x_tensor.get_shape()\n",
    "    x_tensor = tf.reshape(x_tensor, [-1 , int(x*y*z)])\n",
    "    return x_tensor\n",
    "\n",
    "\"\"\"\n",
    "DON'T MODIFY ANYTHING IN THIS CELL THAT IS BELOW THIS LINE\n",
    "\"\"\"\n",
    "tests.test_flatten(flatten)"
   ]
  },
  {
   "cell_type": "markdown",
   "metadata": {},
   "source": [
    "### Fully-Connected Layer\n",
    "Implement the `fully_conn` function to apply a fully connected layer to `x_tensor` with the shape (*Batch Size*, *num_outputs*). Shortcut option: you can use classes from the [TensorFlow Layers](https://www.tensorflow.org/api_docs/python/tf/layers) or [TensorFlow Layers (contrib)](https://www.tensorflow.org/api_guides/python/contrib.layers) packages for this layer. For more of a challenge, only use other TensorFlow packages."
   ]
  },
  {
   "cell_type": "code",
   "execution_count": 10,
   "metadata": {},
   "outputs": [
    {
     "name": "stdout",
     "output_type": "stream",
     "text": [
      "Tests Passed\n"
     ]
    }
   ],
   "source": [
    "def fully_conn(x_tensor, num_outputs):\n",
    "    \"\"\"\n",
    "    Apply a fully connected layer to x_tensor using weight and bias\n",
    "    : x_tensor: A 2-D tensor where the first dimension is batch size.\n",
    "    : num_outputs: The number of output that the new tensor should be.\n",
    "    : return: A 2-D tensor where the second dimension is num_outputs.\n",
    "    \"\"\"\n",
    "    # TODO: Implement Function\n",
    "    weight = tf.Variable(tf.truncated_normal(shape=[int(x_tensor.get_shape()[1]), num_outputs], stddev=0.1))\n",
    "    bias = tf.Variable(tf.zeros(num_outputs))\n",
    "    \n",
    "    return tf.nn.relu(tf.add(tf.matmul(x_tensor, weight), bias))\n",
    "\n",
    "\n",
    "\"\"\"\n",
    "DON'T MODIFY ANYTHING IN THIS CELL THAT IS BELOW THIS LINE\n",
    "\"\"\"\n",
    "tests.test_fully_conn(fully_conn)"
   ]
  },
  {
   "cell_type": "markdown",
   "metadata": {},
   "source": [
    "### Output Layer\n",
    "Implement the `output` function to apply a fully connected layer to `x_tensor` with the shape (*Batch Size*, *num_outputs*). Shortcut option: you can use classes from the [TensorFlow Layers](https://www.tensorflow.org/api_docs/python/tf/layers) or [TensorFlow Layers (contrib)](https://www.tensorflow.org/api_guides/python/contrib.layers) packages for this layer. For more of a challenge, only use other TensorFlow packages.\n",
    "\n",
    "**Note:** Activation, softmax, or cross entropy should **not** be applied to this."
   ]
  },
  {
   "cell_type": "code",
   "execution_count": 11,
   "metadata": {},
   "outputs": [
    {
     "name": "stdout",
     "output_type": "stream",
     "text": [
      "Tests Passed\n"
     ]
    }
   ],
   "source": [
    "def output(x_tensor, num_outputs):\n",
    "    \"\"\"\n",
    "    Apply a output layer to x_tensor using weight and bias\n",
    "    : x_tensor: A 2-D tensor where the first dimension is batch size.\n",
    "    : num_outputs: The number of output that the new tensor should be.\n",
    "    : return: A 2-D tensor where the second dimension is num_outputs.\n",
    "    \"\"\"\n",
    "    # TODO: Implement Function\n",
    "    weight = tf.Variable(tf.truncated_normal(shape=[int(x_tensor.get_shape()[1]), num_outputs], stddev=0.1))\n",
    "    bias = tf.Variable(tf.zeros(num_outputs))\n",
    "    \n",
    "    return tf.add(tf.matmul(x_tensor, weight), bias)\n",
    "\n",
    "\n",
    "\n",
    "\"\"\"\n",
    "DON'T MODIFY ANYTHING IN THIS CELL THAT IS BELOW THIS LINE\n",
    "\"\"\"\n",
    "tests.test_output(output)"
   ]
  },
  {
   "cell_type": "markdown",
   "metadata": {},
   "source": [
    "### Create Convolutional Model\n",
    "Implement the function `conv_net` to create a convolutional neural network model. The function takes in a batch of images, `x`, and outputs logits.  Use the layers you created above to create this model:\n",
    "\n",
    "* Apply 1, 2, or 3 Convolution and Max Pool layers\n",
    "* Apply a Flatten Layer\n",
    "* Apply 1, 2, or 3 Fully Connected Layers\n",
    "* Apply an Output Layer\n",
    "* Return the output\n",
    "* Apply [TensorFlow's Dropout](https://www.tensorflow.org/api_docs/python/tf/nn/dropout) to one or more layers in the model using `keep_prob`. "
   ]
  },
  {
   "cell_type": "code",
   "execution_count": 12,
   "metadata": {},
   "outputs": [
    {
     "name": "stdout",
     "output_type": "stream",
     "text": [
      "(32, 32, 3)\n",
      "Neural Network Built!\n"
     ]
    }
   ],
   "source": [
    "def conv_net(x, keep_prob):\n",
    "    \"\"\"\n",
    "    Create a convolutional neural network model\n",
    "    : x: Placeholder tensor that holds image data.\n",
    "    : keep_prob: Placeholder tensor that hold dropout keep probability.\n",
    "    : return: Tensor that represents logits\n",
    "    \"\"\"\n",
    "    \n",
    "    #Assign Values\n",
    "    x_tensor = x\n",
    "    conv_num_outputs = 40\n",
    "    conv_ksize = (2,2)\n",
    "    conv_strides = (1,1)\n",
    "    pool_ksize = (1,1)\n",
    "    pool_strides = (1,1)\n",
    "    num_outputs = 10\n",
    "    \n",
    "    # TODO: Apply 1, 2, or 3 Convolution and Max Pool layers\n",
    "    #    Play around with different number of outputs, kernel size and stride\n",
    "    # Function Definition from Above:\n",
    "    x_tensor = conv2d_maxpool(x_tensor, conv_num_outputs, conv_ksize, conv_strides, pool_ksize, pool_strides)\n",
    "    \n",
    "    conv_num_outputs = 80\n",
    "    conv_ksize = (2,2)\n",
    "    conv_strides = (2,2)\n",
    "    pool_ksize = (2,2)\n",
    "    pool_strides = (2,2)\n",
    "    \n",
    "    x_tensor = conv2d_maxpool(x_tensor, conv_num_outputs, conv_ksize, conv_strides, pool_ksize, pool_strides)\n",
    "    \n",
    "    # TODO: Apply a Flatten Layer\n",
    "    # Function Definition from Above:\n",
    "    x_tensor = flatten(x_tensor)\n",
    "    \n",
    "\n",
    "    # TODO: Apply 1, 2, or 3 Fully Connected Layers\n",
    "    #    Play around with different number of outputs\n",
    "    # Function Definition from Above:\n",
    "    x_tensor = fully_conn(x_tensor, 1204)\n",
    "    #x_tensor = fully_conn(x_tensor, 900)\n",
    "    x_tensor = tf.nn.dropout(x_tensor, keep_prob)\n",
    "    \n",
    "    # TODO: Apply an Output Layer\n",
    "    #    Set this to the number of classes\n",
    "    # Function Definition from Above:\n",
    "    out = output(x_tensor, num_outputs)\n",
    "    \n",
    "    \n",
    "    # TODO: return output\n",
    "    return out\n",
    "\n",
    "\n",
    "\"\"\"\n",
    "DON'T MODIFY ANYTHING IN THIS CELL THAT IS BELOW THIS LINE\n",
    "\"\"\"\n",
    "\n",
    "##############################\n",
    "## Build the Neural Network ##\n",
    "##############################\n",
    "\n",
    "# Remove previous weights, bias, inputs, etc..\n",
    "tf.reset_default_graph()\n",
    "\n",
    "# Inputs\n",
    "x = neural_net_image_input((32, 32, 3))\n",
    "y = neural_net_label_input(10)\n",
    "keep_prob = neural_net_keep_prob_input()\n",
    "\n",
    "# Model\n",
    "logits = conv_net(x, keep_prob)\n",
    "\n",
    "# Name logits Tensor, so that is can be loaded from disk after training\n",
    "logits = tf.identity(logits, name='logits')\n",
    "\n",
    "# Loss and Optimizer\n",
    "cost = tf.reduce_mean(tf.nn.softmax_cross_entropy_with_logits(logits=logits, labels=y))\n",
    "optimizer = tf.train.AdamOptimizer().minimize(cost)\n",
    "\n",
    "# Accuracy\n",
    "correct_pred = tf.equal(tf.argmax(logits, 1), tf.argmax(y, 1))\n",
    "accuracy = tf.reduce_mean(tf.cast(correct_pred, tf.float32), name='accuracy')\n",
    "\n",
    "tests.test_conv_net(conv_net)"
   ]
  },
  {
   "cell_type": "markdown",
   "metadata": {},
   "source": [
    "## Train the Neural Network\n",
    "### Single Optimization\n",
    "Implement the function `train_neural_network` to do a single optimization.  The optimization should use `optimizer` to optimize in `session` with a `feed_dict` of the following:\n",
    "* `x` for image input\n",
    "* `y` for labels\n",
    "* `keep_prob` for keep probability for dropout\n",
    "\n",
    "This function will be called for each batch, so `tf.global_variables_initializer()` has already been called.\n",
    "\n",
    "Note: Nothing needs to be returned. This function is only optimizing the neural network."
   ]
  },
  {
   "cell_type": "code",
   "execution_count": 13,
   "metadata": {},
   "outputs": [
    {
     "name": "stdout",
     "output_type": "stream",
     "text": [
      "Tests Passed\n"
     ]
    }
   ],
   "source": [
    "def train_neural_network(session, optimizer, keep_probability, feature_batch, label_batch):\n",
    "    \"\"\"\n",
    "    Optimize the session on a batch of images and labels\n",
    "    : session: Current TensorFlow session\n",
    "    : optimizer: TensorFlow optimizer function\n",
    "    : keep_probability: keep probability\n",
    "    : feature_batch: Batch of Numpy image data\n",
    "    : label_batch: Batch of Numpy label data\n",
    "    \"\"\"\n",
    "    session.run(optimizer, feed_dict={x:feature_batch, y:label_batch, keep_prob:keep_probability})\n",
    "        \n",
    "\n",
    "\n",
    "\"\"\"\n",
    "DON'T MODIFY ANYTHING IN THIS CELL THAT IS BELOW THIS LINE\n",
    "\"\"\"\n",
    "tests.test_train_nn(train_neural_network)"
   ]
  },
  {
   "cell_type": "markdown",
   "metadata": {},
   "source": [
    "### Show Stats\n",
    "Implement the function `print_stats` to print loss and validation accuracy.  Use the global variables `valid_features` and `valid_labels` to calculate validation accuracy.  Use a keep probability of `1.0` to calculate the loss and validation accuracy."
   ]
  },
  {
   "cell_type": "code",
   "execution_count": 14,
   "metadata": {},
   "outputs": [],
   "source": [
    "def print_stats(session, feature_batch, label_batch, cost, accuracy):\n",
    "    \"\"\"\n",
    "    Print information about loss and validation accuracy\n",
    "    : session: Current TensorFlow session\n",
    "    : feature_batch: Batch of Numpy image data\n",
    "    : label_batch: Batch of Numpy label data\n",
    "    : cost: TensorFlow cost function\n",
    "    : accuracy: TensorFlow accuracy function\n",
    "    \"\"\"\n",
    "    loss = session.run(cost, feed_dict={x:feature_batch, y:label_batch, keep_prob:1.})\n",
    "    acc = session.run(accuracy, feed_dict={x:valid_features, y:valid_labels, keep_prob:1.})\n",
    "    print('Loss: {:>10.4f} Validation Accuracy: {:.6f}'.format(loss, acc))"
   ]
  },
  {
   "cell_type": "markdown",
   "metadata": {},
   "source": [
    "### Hyperparameters\n",
    "Tune the following parameters:\n",
    "* Set `epochs` to the number of iterations until the network stops learning or start overfitting\n",
    "* Set `batch_size` to the highest number that your machine has memory for.  Most people set them to common sizes of memory:\n",
    " * 64\n",
    " * 128\n",
    " * 256\n",
    " * ...\n",
    "* Set `keep_probability` to the probability of keeping a node using dropout"
   ]
  },
  {
   "cell_type": "code",
   "execution_count": null,
   "metadata": {
    "collapsed": true
   },
   "outputs": [],
   "source": []
  },
  {
   "cell_type": "code",
   "execution_count": 15,
   "metadata": {
    "collapsed": true
   },
   "outputs": [],
   "source": [
    "# TODO: Tune Parameters\n",
    "epochs = 50\n",
    "batch_size = 3000\n",
    "keep_probability = 0.4\n"
   ]
  },
  {
   "cell_type": "markdown",
   "metadata": {},
   "source": [
    "### Train on a Single CIFAR-10 Batch\n",
    "Instead of training the neural network on all the CIFAR-10 batches of data, let's use a single batch. This should save time while you iterate on the model to get a better accuracy.  Once the final validation accuracy is 50% or greater, run the model on all the data in the next section."
   ]
  },
  {
   "cell_type": "code",
   "execution_count": 16,
   "metadata": {},
   "outputs": [
    {
     "name": "stdout",
     "output_type": "stream",
     "text": [
      "Checking the Training on a Single Batch...\n",
      "Epoch  1, CIFAR-10 Batch 1:  Loss:     2.9639 Validation Accuracy: 0.200400\n",
      "Epoch  2, CIFAR-10 Batch 1:  Loss:     2.3021 Validation Accuracy: 0.204200\n",
      "Epoch  3, CIFAR-10 Batch 1:  Loss:     2.1002 Validation Accuracy: 0.222200\n",
      "Epoch  4, CIFAR-10 Batch 1:  Loss:     2.0635 Validation Accuracy: 0.238800\n",
      "Epoch  5, CIFAR-10 Batch 1:  Loss:     1.9847 Validation Accuracy: 0.338400\n",
      "Epoch  6, CIFAR-10 Batch 1:  Loss:     1.9083 Validation Accuracy: 0.346800\n",
      "Epoch  7, CIFAR-10 Batch 1:  Loss:     1.8204 Validation Accuracy: 0.371800\n",
      "Epoch  8, CIFAR-10 Batch 1:  Loss:     1.7419 Validation Accuracy: 0.387800\n",
      "Epoch  9, CIFAR-10 Batch 1:  Loss:     1.6638 Validation Accuracy: 0.408800\n",
      "Epoch 10, CIFAR-10 Batch 1:  Loss:     1.5917 Validation Accuracy: 0.431400\n",
      "Epoch 11, CIFAR-10 Batch 1:  Loss:     1.5409 Validation Accuracy: 0.447800\n",
      "Epoch 12, CIFAR-10 Batch 1:  Loss:     1.4810 Validation Accuracy: 0.460200\n",
      "Epoch 13, CIFAR-10 Batch 1:  Loss:     1.4299 Validation Accuracy: 0.473200\n",
      "Epoch 14, CIFAR-10 Batch 1:  Loss:     1.3896 Validation Accuracy: 0.483400\n",
      "Epoch 15, CIFAR-10 Batch 1:  Loss:     1.3399 Validation Accuracy: 0.496600\n",
      "Epoch 16, CIFAR-10 Batch 1:  Loss:     1.3054 Validation Accuracy: 0.506400\n",
      "Epoch 17, CIFAR-10 Batch 1:  Loss:     1.2665 Validation Accuracy: 0.514800\n",
      "Epoch 18, CIFAR-10 Batch 1:  Loss:     1.2350 Validation Accuracy: 0.519200\n",
      "Epoch 19, CIFAR-10 Batch 1:  Loss:     1.1998 Validation Accuracy: 0.526200\n",
      "Epoch 20, CIFAR-10 Batch 1:  Loss:     1.1704 Validation Accuracy: 0.530000\n",
      "Epoch 21, CIFAR-10 Batch 1:  Loss:     1.1415 Validation Accuracy: 0.530200\n",
      "Epoch 22, CIFAR-10 Batch 1:  Loss:     1.1133 Validation Accuracy: 0.539000\n",
      "Epoch 23, CIFAR-10 Batch 1:  Loss:     1.0849 Validation Accuracy: 0.541800\n",
      "Epoch 24, CIFAR-10 Batch 1:  Loss:     1.0547 Validation Accuracy: 0.552600\n",
      "Epoch 25, CIFAR-10 Batch 1:  Loss:     1.0266 Validation Accuracy: 0.552200\n",
      "Epoch 26, CIFAR-10 Batch 1:  Loss:     0.9959 Validation Accuracy: 0.559200\n",
      "Epoch 27, CIFAR-10 Batch 1:  Loss:     0.9716 Validation Accuracy: 0.557400\n",
      "Epoch 28, CIFAR-10 Batch 1:  Loss:     0.9473 Validation Accuracy: 0.556800\n",
      "Epoch 29, CIFAR-10 Batch 1:  Loss:     0.9229 Validation Accuracy: 0.563400\n",
      "Epoch 30, CIFAR-10 Batch 1:  Loss:     0.9020 Validation Accuracy: 0.567000\n",
      "Epoch 31, CIFAR-10 Batch 1:  Loss:     0.8743 Validation Accuracy: 0.569200\n",
      "Epoch 32, CIFAR-10 Batch 1:  Loss:     0.8472 Validation Accuracy: 0.574800\n",
      "Epoch 33, CIFAR-10 Batch 1:  Loss:     0.8212 Validation Accuracy: 0.576400\n",
      "Epoch 34, CIFAR-10 Batch 1:  Loss:     0.7977 Validation Accuracy: 0.576800\n",
      "Epoch 35, CIFAR-10 Batch 1:  Loss:     0.7806 Validation Accuracy: 0.579800\n",
      "Epoch 36, CIFAR-10 Batch 1:  Loss:     0.7500 Validation Accuracy: 0.586600\n",
      "Epoch 37, CIFAR-10 Batch 1:  Loss:     0.7276 Validation Accuracy: 0.586200\n",
      "Epoch 38, CIFAR-10 Batch 1:  Loss:     0.7065 Validation Accuracy: 0.585000\n",
      "Epoch 39, CIFAR-10 Batch 1:  Loss:     0.6813 Validation Accuracy: 0.586400\n",
      "Epoch 40, CIFAR-10 Batch 1:  Loss:     0.6586 Validation Accuracy: 0.593400\n",
      "Epoch 41, CIFAR-10 Batch 1:  Loss:     0.6429 Validation Accuracy: 0.590600\n",
      "Epoch 42, CIFAR-10 Batch 1:  Loss:     0.6131 Validation Accuracy: 0.593600\n",
      "Epoch 43, CIFAR-10 Batch 1:  Loss:     0.5984 Validation Accuracy: 0.594600\n",
      "Epoch 44, CIFAR-10 Batch 1:  Loss:     0.5795 Validation Accuracy: 0.593200\n",
      "Epoch 45, CIFAR-10 Batch 1:  Loss:     0.5520 Validation Accuracy: 0.597400\n",
      "Epoch 46, CIFAR-10 Batch 1:  Loss:     0.5371 Validation Accuracy: 0.596400\n",
      "Epoch 47, CIFAR-10 Batch 1:  Loss:     0.5123 Validation Accuracy: 0.599600\n",
      "Epoch 48, CIFAR-10 Batch 1:  Loss:     0.4939 Validation Accuracy: 0.598200\n",
      "Epoch 49, CIFAR-10 Batch 1:  Loss:     0.4772 Validation Accuracy: 0.601600\n",
      "Epoch 50, CIFAR-10 Batch 1:  Loss:     0.4554 Validation Accuracy: 0.601600\n"
     ]
    }
   ],
   "source": [
    "\"\"\"\n",
    "DON'T MODIFY ANYTHING IN THIS CELL\n",
    "\"\"\"\n",
    "print('Checking the Training on a Single Batch...')\n",
    "with tf.Session() as sess:\n",
    "    # Initializing the variables\n",
    "    sess.run(tf.global_variables_initializer())\n",
    "    \n",
    "    # Training cycle\n",
    "    for epoch in range(epochs):\n",
    "        batch_i = 1\n",
    "        for batch_features, batch_labels in helper.load_preprocess_training_batch(batch_i, batch_size):\n",
    "            train_neural_network(sess, optimizer, keep_probability, batch_features, batch_labels)\n",
    "        print('Epoch {:>2}, CIFAR-10 Batch {}:  '.format(epoch + 1, batch_i), end='')\n",
    "        print_stats(sess, batch_features, batch_labels, cost, accuracy)"
   ]
  },
  {
   "cell_type": "markdown",
   "metadata": {},
   "source": [
    "### Fully Train the Model\n",
    "Now that you got a good accuracy with a single CIFAR-10 batch, try it with all five batches."
   ]
  },
  {
   "cell_type": "code",
   "execution_count": 17,
   "metadata": {},
   "outputs": [
    {
     "name": "stdout",
     "output_type": "stream",
     "text": [
      "Training...\n",
      "Epoch  1, CIFAR-10 Batch 1:  Loss:     3.2048 Validation Accuracy: 0.184800\n",
      "Epoch  1, CIFAR-10 Batch 2:  Loss:     2.3448 Validation Accuracy: 0.184200\n",
      "Epoch  1, CIFAR-10 Batch 3:  Loss:     2.1779 Validation Accuracy: 0.121400\n",
      "Epoch  1, CIFAR-10 Batch 4:  Loss:     2.1237 Validation Accuracy: 0.178400\n",
      "Epoch  1, CIFAR-10 Batch 5:  Loss:     2.0545 Validation Accuracy: 0.277800\n",
      "Epoch  2, CIFAR-10 Batch 1:  Loss:     1.9902 Validation Accuracy: 0.328800\n",
      "Epoch  2, CIFAR-10 Batch 2:  Loss:     1.9134 Validation Accuracy: 0.358400\n",
      "Epoch  2, CIFAR-10 Batch 3:  Loss:     1.8098 Validation Accuracy: 0.386400\n",
      "Epoch  2, CIFAR-10 Batch 4:  Loss:     1.7498 Validation Accuracy: 0.399400\n",
      "Epoch  2, CIFAR-10 Batch 5:  Loss:     1.6876 Validation Accuracy: 0.415400\n",
      "Epoch  3, CIFAR-10 Batch 1:  Loss:     1.6248 Validation Accuracy: 0.423600\n",
      "Epoch  3, CIFAR-10 Batch 2:  Loss:     1.5928 Validation Accuracy: 0.443200\n",
      "Epoch  3, CIFAR-10 Batch 3:  Loss:     1.5358 Validation Accuracy: 0.451200\n",
      "Epoch  3, CIFAR-10 Batch 4:  Loss:     1.4990 Validation Accuracy: 0.471000\n",
      "Epoch  3, CIFAR-10 Batch 5:  Loss:     1.4608 Validation Accuracy: 0.479600\n",
      "Epoch  4, CIFAR-10 Batch 1:  Loss:     1.4226 Validation Accuracy: 0.488000\n",
      "Epoch  4, CIFAR-10 Batch 2:  Loss:     1.3950 Validation Accuracy: 0.501600\n",
      "Epoch  4, CIFAR-10 Batch 3:  Loss:     1.3696 Validation Accuracy: 0.502200\n",
      "Epoch  4, CIFAR-10 Batch 4:  Loss:     1.3563 Validation Accuracy: 0.510000\n",
      "Epoch  4, CIFAR-10 Batch 5:  Loss:     1.3311 Validation Accuracy: 0.527200\n",
      "Epoch  5, CIFAR-10 Batch 1:  Loss:     1.3073 Validation Accuracy: 0.521200\n",
      "Epoch  5, CIFAR-10 Batch 2:  Loss:     1.2786 Validation Accuracy: 0.542600\n",
      "Epoch  5, CIFAR-10 Batch 3:  Loss:     1.2617 Validation Accuracy: 0.547600\n",
      "Epoch  5, CIFAR-10 Batch 4:  Loss:     1.2561 Validation Accuracy: 0.543400\n",
      "Epoch  5, CIFAR-10 Batch 5:  Loss:     1.2304 Validation Accuracy: 0.556400\n",
      "Epoch  6, CIFAR-10 Batch 1:  Loss:     1.2117 Validation Accuracy: 0.558800\n",
      "Epoch  6, CIFAR-10 Batch 2:  Loss:     1.1884 Validation Accuracy: 0.567200\n",
      "Epoch  6, CIFAR-10 Batch 3:  Loss:     1.1838 Validation Accuracy: 0.575200\n",
      "Epoch  6, CIFAR-10 Batch 4:  Loss:     1.1756 Validation Accuracy: 0.573800\n",
      "Epoch  6, CIFAR-10 Batch 5:  Loss:     1.1504 Validation Accuracy: 0.585000\n",
      "Epoch  7, CIFAR-10 Batch 1:  Loss:     1.1369 Validation Accuracy: 0.584800\n",
      "Epoch  7, CIFAR-10 Batch 2:  Loss:     1.1177 Validation Accuracy: 0.589800\n",
      "Epoch  7, CIFAR-10 Batch 3:  Loss:     1.1117 Validation Accuracy: 0.596000\n",
      "Epoch  7, CIFAR-10 Batch 4:  Loss:     1.1116 Validation Accuracy: 0.595600\n",
      "Epoch  7, CIFAR-10 Batch 5:  Loss:     1.0850 Validation Accuracy: 0.603400\n",
      "Epoch  8, CIFAR-10 Batch 1:  Loss:     1.0763 Validation Accuracy: 0.599600\n",
      "Epoch  8, CIFAR-10 Batch 2:  Loss:     1.0614 Validation Accuracy: 0.609600\n",
      "Epoch  8, CIFAR-10 Batch 3:  Loss:     1.0534 Validation Accuracy: 0.607800\n",
      "Epoch  8, CIFAR-10 Batch 4:  Loss:     1.0572 Validation Accuracy: 0.609600\n",
      "Epoch  8, CIFAR-10 Batch 5:  Loss:     1.0341 Validation Accuracy: 0.618600\n",
      "Epoch  9, CIFAR-10 Batch 1:  Loss:     1.0286 Validation Accuracy: 0.615400\n",
      "Epoch  9, CIFAR-10 Batch 2:  Loss:     1.0101 Validation Accuracy: 0.616800\n",
      "Epoch  9, CIFAR-10 Batch 3:  Loss:     1.0057 Validation Accuracy: 0.620200\n",
      "Epoch  9, CIFAR-10 Batch 4:  Loss:     1.0123 Validation Accuracy: 0.623400\n",
      "Epoch  9, CIFAR-10 Batch 5:  Loss:     0.9830 Validation Accuracy: 0.627800\n",
      "Epoch 10, CIFAR-10 Batch 1:  Loss:     0.9835 Validation Accuracy: 0.623400\n",
      "Epoch 10, CIFAR-10 Batch 2:  Loss:     0.9651 Validation Accuracy: 0.629400\n",
      "Epoch 10, CIFAR-10 Batch 3:  Loss:     0.9632 Validation Accuracy: 0.630400\n",
      "Epoch 10, CIFAR-10 Batch 4:  Loss:     0.9751 Validation Accuracy: 0.628600\n",
      "Epoch 10, CIFAR-10 Batch 5:  Loss:     0.9421 Validation Accuracy: 0.639000\n",
      "Epoch 11, CIFAR-10 Batch 1:  Loss:     0.9463 Validation Accuracy: 0.634600\n",
      "Epoch 11, CIFAR-10 Batch 2:  Loss:     0.9311 Validation Accuracy: 0.634600\n",
      "Epoch 11, CIFAR-10 Batch 3:  Loss:     0.9278 Validation Accuracy: 0.641800\n",
      "Epoch 11, CIFAR-10 Batch 4:  Loss:     0.9351 Validation Accuracy: 0.636600\n",
      "Epoch 11, CIFAR-10 Batch 5:  Loss:     0.9088 Validation Accuracy: 0.642800\n",
      "Epoch 12, CIFAR-10 Batch 1:  Loss:     0.9065 Validation Accuracy: 0.642200\n",
      "Epoch 12, CIFAR-10 Batch 2:  Loss:     0.9011 Validation Accuracy: 0.642000\n",
      "Epoch 12, CIFAR-10 Batch 3:  Loss:     0.8855 Validation Accuracy: 0.650600\n",
      "Epoch 12, CIFAR-10 Batch 4:  Loss:     0.8967 Validation Accuracy: 0.648600\n",
      "Epoch 12, CIFAR-10 Batch 5:  Loss:     0.8641 Validation Accuracy: 0.650600\n",
      "Epoch 13, CIFAR-10 Batch 1:  Loss:     0.8689 Validation Accuracy: 0.647600\n",
      "Epoch 13, CIFAR-10 Batch 2:  Loss:     0.8520 Validation Accuracy: 0.649400\n",
      "Epoch 13, CIFAR-10 Batch 3:  Loss:     0.8497 Validation Accuracy: 0.657800\n",
      "Epoch 13, CIFAR-10 Batch 4:  Loss:     0.8621 Validation Accuracy: 0.652800\n",
      "Epoch 13, CIFAR-10 Batch 5:  Loss:     0.8305 Validation Accuracy: 0.659600\n",
      "Epoch 14, CIFAR-10 Batch 1:  Loss:     0.8378 Validation Accuracy: 0.653200\n",
      "Epoch 14, CIFAR-10 Batch 2:  Loss:     0.8140 Validation Accuracy: 0.656000\n",
      "Epoch 14, CIFAR-10 Batch 3:  Loss:     0.8126 Validation Accuracy: 0.660400\n",
      "Epoch 14, CIFAR-10 Batch 4:  Loss:     0.8312 Validation Accuracy: 0.654400\n",
      "Epoch 14, CIFAR-10 Batch 5:  Loss:     0.8037 Validation Accuracy: 0.664800\n",
      "Epoch 15, CIFAR-10 Batch 1:  Loss:     0.8024 Validation Accuracy: 0.662000\n",
      "Epoch 15, CIFAR-10 Batch 2:  Loss:     0.7844 Validation Accuracy: 0.662600\n",
      "Epoch 15, CIFAR-10 Batch 3:  Loss:     0.7811 Validation Accuracy: 0.668000\n",
      "Epoch 15, CIFAR-10 Batch 4:  Loss:     0.8014 Validation Accuracy: 0.661600\n",
      "Epoch 15, CIFAR-10 Batch 5:  Loss:     0.7631 Validation Accuracy: 0.673000\n",
      "Epoch 16, CIFAR-10 Batch 1:  Loss:     0.7708 Validation Accuracy: 0.667600\n",
      "Epoch 16, CIFAR-10 Batch 2:  Loss:     0.7510 Validation Accuracy: 0.662000\n",
      "Epoch 16, CIFAR-10 Batch 3:  Loss:     0.7554 Validation Accuracy: 0.670800\n",
      "Epoch 16, CIFAR-10 Batch 4:  Loss:     0.7737 Validation Accuracy: 0.660400\n",
      "Epoch 16, CIFAR-10 Batch 5:  Loss:     0.7373 Validation Accuracy: 0.672200\n",
      "Epoch 17, CIFAR-10 Batch 1:  Loss:     0.7418 Validation Accuracy: 0.666800\n",
      "Epoch 17, CIFAR-10 Batch 2:  Loss:     0.7200 Validation Accuracy: 0.669600\n",
      "Epoch 17, CIFAR-10 Batch 3:  Loss:     0.7219 Validation Accuracy: 0.675600\n",
      "Epoch 17, CIFAR-10 Batch 4:  Loss:     0.7405 Validation Accuracy: 0.673200\n",
      "Epoch 17, CIFAR-10 Batch 5:  Loss:     0.7094 Validation Accuracy: 0.674600\n",
      "Epoch 18, CIFAR-10 Batch 1:  Loss:     0.7141 Validation Accuracy: 0.675000\n",
      "Epoch 18, CIFAR-10 Batch 2:  Loss:     0.6909 Validation Accuracy: 0.676200\n",
      "Epoch 18, CIFAR-10 Batch 3:  Loss:     0.6901 Validation Accuracy: 0.676000\n",
      "Epoch 18, CIFAR-10 Batch 4:  Loss:     0.7137 Validation Accuracy: 0.676000\n",
      "Epoch 18, CIFAR-10 Batch 5:  Loss:     0.6834 Validation Accuracy: 0.674800\n",
      "Epoch 19, CIFAR-10 Batch 1:  Loss:     0.6838 Validation Accuracy: 0.675800\n",
      "Epoch 19, CIFAR-10 Batch 2:  Loss:     0.6662 Validation Accuracy: 0.678200\n",
      "Epoch 19, CIFAR-10 Batch 3:  Loss:     0.6611 Validation Accuracy: 0.684200\n",
      "Epoch 19, CIFAR-10 Batch 4:  Loss:     0.6815 Validation Accuracy: 0.682200\n",
      "Epoch 19, CIFAR-10 Batch 5:  Loss:     0.6562 Validation Accuracy: 0.683200\n",
      "Epoch 20, CIFAR-10 Batch 1:  Loss:     0.6539 Validation Accuracy: 0.679600\n",
      "Epoch 20, CIFAR-10 Batch 2:  Loss:     0.6323 Validation Accuracy: 0.684600\n",
      "Epoch 20, CIFAR-10 Batch 3:  Loss:     0.6300 Validation Accuracy: 0.688800\n",
      "Epoch 20, CIFAR-10 Batch 4:  Loss:     0.6501 Validation Accuracy: 0.686600\n",
      "Epoch 20, CIFAR-10 Batch 5:  Loss:     0.6262 Validation Accuracy: 0.684200\n",
      "Epoch 21, CIFAR-10 Batch 1:  Loss:     0.6262 Validation Accuracy: 0.685800\n",
      "Epoch 21, CIFAR-10 Batch 2:  Loss:     0.6053 Validation Accuracy: 0.684800\n",
      "Epoch 21, CIFAR-10 Batch 3:  Loss:     0.6037 Validation Accuracy: 0.689800\n",
      "Epoch 21, CIFAR-10 Batch 4:  Loss:     0.6328 Validation Accuracy: 0.684600\n",
      "Epoch 21, CIFAR-10 Batch 5:  Loss:     0.5946 Validation Accuracy: 0.691200\n",
      "Epoch 22, CIFAR-10 Batch 1:  Loss:     0.5936 Validation Accuracy: 0.689400\n",
      "Epoch 22, CIFAR-10 Batch 2:  Loss:     0.5758 Validation Accuracy: 0.687000\n",
      "Epoch 22, CIFAR-10 Batch 3:  Loss:     0.5712 Validation Accuracy: 0.692200\n"
     ]
    },
    {
     "name": "stdout",
     "output_type": "stream",
     "text": [
      "Epoch 22, CIFAR-10 Batch 4:  Loss:     0.5999 Validation Accuracy: 0.689000\n",
      "Epoch 22, CIFAR-10 Batch 5:  Loss:     0.5736 Validation Accuracy: 0.687400\n",
      "Epoch 23, CIFAR-10 Batch 1:  Loss:     0.5812 Validation Accuracy: 0.687400\n",
      "Epoch 23, CIFAR-10 Batch 2:  Loss:     0.5567 Validation Accuracy: 0.691800\n",
      "Epoch 23, CIFAR-10 Batch 3:  Loss:     0.5490 Validation Accuracy: 0.695200\n",
      "Epoch 23, CIFAR-10 Batch 4:  Loss:     0.5674 Validation Accuracy: 0.691000\n",
      "Epoch 23, CIFAR-10 Batch 5:  Loss:     0.5509 Validation Accuracy: 0.692600\n",
      "Epoch 24, CIFAR-10 Batch 1:  Loss:     0.5446 Validation Accuracy: 0.687000\n",
      "Epoch 24, CIFAR-10 Batch 2:  Loss:     0.5295 Validation Accuracy: 0.689000\n",
      "Epoch 24, CIFAR-10 Batch 3:  Loss:     0.5212 Validation Accuracy: 0.695200\n",
      "Epoch 24, CIFAR-10 Batch 4:  Loss:     0.5512 Validation Accuracy: 0.696800\n",
      "Epoch 24, CIFAR-10 Batch 5:  Loss:     0.5242 Validation Accuracy: 0.691800\n",
      "Epoch 25, CIFAR-10 Batch 1:  Loss:     0.5157 Validation Accuracy: 0.695600\n",
      "Epoch 25, CIFAR-10 Batch 2:  Loss:     0.5032 Validation Accuracy: 0.693000\n",
      "Epoch 25, CIFAR-10 Batch 3:  Loss:     0.4967 Validation Accuracy: 0.699200\n",
      "Epoch 25, CIFAR-10 Batch 4:  Loss:     0.5220 Validation Accuracy: 0.701000\n",
      "Epoch 25, CIFAR-10 Batch 5:  Loss:     0.4943 Validation Accuracy: 0.700200\n",
      "Epoch 26, CIFAR-10 Batch 1:  Loss:     0.4896 Validation Accuracy: 0.695800\n",
      "Epoch 26, CIFAR-10 Batch 2:  Loss:     0.4746 Validation Accuracy: 0.696800\n",
      "Epoch 26, CIFAR-10 Batch 3:  Loss:     0.4784 Validation Accuracy: 0.700800\n",
      "Epoch 26, CIFAR-10 Batch 4:  Loss:     0.4966 Validation Accuracy: 0.700600\n",
      "Epoch 26, CIFAR-10 Batch 5:  Loss:     0.4775 Validation Accuracy: 0.701400\n",
      "Epoch 27, CIFAR-10 Batch 1:  Loss:     0.4720 Validation Accuracy: 0.697000\n",
      "Epoch 27, CIFAR-10 Batch 2:  Loss:     0.4510 Validation Accuracy: 0.700800\n",
      "Epoch 27, CIFAR-10 Batch 3:  Loss:     0.4542 Validation Accuracy: 0.703000\n",
      "Epoch 27, CIFAR-10 Batch 4:  Loss:     0.4769 Validation Accuracy: 0.703800\n",
      "Epoch 27, CIFAR-10 Batch 5:  Loss:     0.4509 Validation Accuracy: 0.696000\n",
      "Epoch 28, CIFAR-10 Batch 1:  Loss:     0.4477 Validation Accuracy: 0.701200\n",
      "Epoch 28, CIFAR-10 Batch 2:  Loss:     0.4302 Validation Accuracy: 0.703600\n",
      "Epoch 28, CIFAR-10 Batch 3:  Loss:     0.4236 Validation Accuracy: 0.706200\n",
      "Epoch 28, CIFAR-10 Batch 4:  Loss:     0.4442 Validation Accuracy: 0.703200\n",
      "Epoch 28, CIFAR-10 Batch 5:  Loss:     0.4333 Validation Accuracy: 0.706000\n",
      "Epoch 29, CIFAR-10 Batch 1:  Loss:     0.4247 Validation Accuracy: 0.703000\n",
      "Epoch 29, CIFAR-10 Batch 2:  Loss:     0.4058 Validation Accuracy: 0.707400\n",
      "Epoch 29, CIFAR-10 Batch 3:  Loss:     0.4001 Validation Accuracy: 0.704800\n",
      "Epoch 29, CIFAR-10 Batch 4:  Loss:     0.4261 Validation Accuracy: 0.704200\n",
      "Epoch 29, CIFAR-10 Batch 5:  Loss:     0.4159 Validation Accuracy: 0.705800\n",
      "Epoch 30, CIFAR-10 Batch 1:  Loss:     0.4120 Validation Accuracy: 0.698600\n",
      "Epoch 30, CIFAR-10 Batch 2:  Loss:     0.3928 Validation Accuracy: 0.708200\n",
      "Epoch 30, CIFAR-10 Batch 3:  Loss:     0.3815 Validation Accuracy: 0.706800\n",
      "Epoch 30, CIFAR-10 Batch 4:  Loss:     0.4046 Validation Accuracy: 0.707000\n",
      "Epoch 30, CIFAR-10 Batch 5:  Loss:     0.3919 Validation Accuracy: 0.702600\n",
      "Epoch 31, CIFAR-10 Batch 1:  Loss:     0.3809 Validation Accuracy: 0.707000\n",
      "Epoch 31, CIFAR-10 Batch 2:  Loss:     0.3630 Validation Accuracy: 0.707200\n",
      "Epoch 31, CIFAR-10 Batch 3:  Loss:     0.3604 Validation Accuracy: 0.708400\n",
      "Epoch 31, CIFAR-10 Batch 4:  Loss:     0.3803 Validation Accuracy: 0.706000\n",
      "Epoch 31, CIFAR-10 Batch 5:  Loss:     0.3688 Validation Accuracy: 0.709600\n",
      "Epoch 32, CIFAR-10 Batch 1:  Loss:     0.3596 Validation Accuracy: 0.709600\n",
      "Epoch 32, CIFAR-10 Batch 2:  Loss:     0.3452 Validation Accuracy: 0.707800\n",
      "Epoch 32, CIFAR-10 Batch 3:  Loss:     0.3478 Validation Accuracy: 0.706000\n",
      "Epoch 32, CIFAR-10 Batch 4:  Loss:     0.3623 Validation Accuracy: 0.704600\n",
      "Epoch 32, CIFAR-10 Batch 5:  Loss:     0.3504 Validation Accuracy: 0.709600\n",
      "Epoch 33, CIFAR-10 Batch 1:  Loss:     0.3375 Validation Accuracy: 0.706400\n",
      "Epoch 33, CIFAR-10 Batch 2:  Loss:     0.3240 Validation Accuracy: 0.709000\n",
      "Epoch 33, CIFAR-10 Batch 3:  Loss:     0.3314 Validation Accuracy: 0.704000\n",
      "Epoch 33, CIFAR-10 Batch 4:  Loss:     0.3431 Validation Accuracy: 0.708800\n",
      "Epoch 33, CIFAR-10 Batch 5:  Loss:     0.3247 Validation Accuracy: 0.707800\n",
      "Epoch 34, CIFAR-10 Batch 1:  Loss:     0.3182 Validation Accuracy: 0.711400\n",
      "Epoch 34, CIFAR-10 Batch 2:  Loss:     0.3130 Validation Accuracy: 0.706400\n",
      "Epoch 34, CIFAR-10 Batch 3:  Loss:     0.3270 Validation Accuracy: 0.704600\n",
      "Epoch 34, CIFAR-10 Batch 4:  Loss:     0.3252 Validation Accuracy: 0.710200\n",
      "Epoch 34, CIFAR-10 Batch 5:  Loss:     0.3110 Validation Accuracy: 0.706200\n",
      "Epoch 35, CIFAR-10 Batch 1:  Loss:     0.3049 Validation Accuracy: 0.708400\n",
      "Epoch 35, CIFAR-10 Batch 2:  Loss:     0.2964 Validation Accuracy: 0.704400\n",
      "Epoch 35, CIFAR-10 Batch 3:  Loss:     0.3137 Validation Accuracy: 0.702200\n",
      "Epoch 35, CIFAR-10 Batch 4:  Loss:     0.3029 Validation Accuracy: 0.715800\n",
      "Epoch 35, CIFAR-10 Batch 5:  Loss:     0.3046 Validation Accuracy: 0.702600\n",
      "Epoch 36, CIFAR-10 Batch 1:  Loss:     0.2914 Validation Accuracy: 0.704200\n",
      "Epoch 36, CIFAR-10 Batch 2:  Loss:     0.2926 Validation Accuracy: 0.702200\n",
      "Epoch 36, CIFAR-10 Batch 3:  Loss:     0.2756 Validation Accuracy: 0.710600\n",
      "Epoch 36, CIFAR-10 Batch 4:  Loss:     0.3199 Validation Accuracy: 0.699600\n",
      "Epoch 36, CIFAR-10 Batch 5:  Loss:     0.2880 Validation Accuracy: 0.713200\n",
      "Epoch 37, CIFAR-10 Batch 1:  Loss:     0.2954 Validation Accuracy: 0.703000\n",
      "Epoch 37, CIFAR-10 Batch 2:  Loss:     0.2810 Validation Accuracy: 0.708400\n",
      "Epoch 37, CIFAR-10 Batch 3:  Loss:     0.2619 Validation Accuracy: 0.710200\n",
      "Epoch 37, CIFAR-10 Batch 4:  Loss:     0.2664 Validation Accuracy: 0.714000\n",
      "Epoch 37, CIFAR-10 Batch 5:  Loss:     0.2665 Validation Accuracy: 0.710400\n",
      "Epoch 38, CIFAR-10 Batch 1:  Loss:     0.2710 Validation Accuracy: 0.701400\n",
      "Epoch 38, CIFAR-10 Batch 2:  Loss:     0.2547 Validation Accuracy: 0.705600\n",
      "Epoch 38, CIFAR-10 Batch 3:  Loss:     0.2472 Validation Accuracy: 0.709600\n",
      "Epoch 38, CIFAR-10 Batch 4:  Loss:     0.2582 Validation Accuracy: 0.709200\n",
      "Epoch 38, CIFAR-10 Batch 5:  Loss:     0.2611 Validation Accuracy: 0.708200\n",
      "Epoch 39, CIFAR-10 Batch 1:  Loss:     0.2510 Validation Accuracy: 0.710000\n",
      "Epoch 39, CIFAR-10 Batch 2:  Loss:     0.2305 Validation Accuracy: 0.712800\n",
      "Epoch 39, CIFAR-10 Batch 3:  Loss:     0.2291 Validation Accuracy: 0.710600\n",
      "Epoch 39, CIFAR-10 Batch 4:  Loss:     0.2532 Validation Accuracy: 0.704800\n",
      "Epoch 39, CIFAR-10 Batch 5:  Loss:     0.2469 Validation Accuracy: 0.706400\n",
      "Epoch 40, CIFAR-10 Batch 1:  Loss:     0.2322 Validation Accuracy: 0.712800\n",
      "Epoch 40, CIFAR-10 Batch 2:  Loss:     0.2191 Validation Accuracy: 0.715600\n",
      "Epoch 40, CIFAR-10 Batch 3:  Loss:     0.2102 Validation Accuracy: 0.714000\n",
      "Epoch 40, CIFAR-10 Batch 4:  Loss:     0.2215 Validation Accuracy: 0.713400\n",
      "Epoch 40, CIFAR-10 Batch 5:  Loss:     0.2219 Validation Accuracy: 0.715000\n",
      "Epoch 41, CIFAR-10 Batch 1:  Loss:     0.2127 Validation Accuracy: 0.711400\n",
      "Epoch 41, CIFAR-10 Batch 2:  Loss:     0.2037 Validation Accuracy: 0.707200\n",
      "Epoch 41, CIFAR-10 Batch 3:  Loss:     0.1955 Validation Accuracy: 0.712400\n",
      "Epoch 41, CIFAR-10 Batch 4:  Loss:     0.2051 Validation Accuracy: 0.710000\n",
      "Epoch 41, CIFAR-10 Batch 5:  Loss:     0.2073 Validation Accuracy: 0.715600\n",
      "Epoch 42, CIFAR-10 Batch 1:  Loss:     0.2036 Validation Accuracy: 0.713800\n",
      "Epoch 42, CIFAR-10 Batch 2:  Loss:     0.1978 Validation Accuracy: 0.708400\n",
      "Epoch 42, CIFAR-10 Batch 3:  Loss:     0.1915 Validation Accuracy: 0.710400\n",
      "Epoch 42, CIFAR-10 Batch 4:  Loss:     0.2033 Validation Accuracy: 0.710800\n",
      "Epoch 42, CIFAR-10 Batch 5:  Loss:     0.1921 Validation Accuracy: 0.715400\n",
      "Epoch 43, CIFAR-10 Batch 1:  Loss:     0.1956 Validation Accuracy: 0.716400\n",
      "Epoch 43, CIFAR-10 Batch 2:  Loss:     0.1840 Validation Accuracy: 0.710800\n",
      "Epoch 43, CIFAR-10 Batch 3:  Loss:     0.1840 Validation Accuracy: 0.708200\n",
      "Epoch 43, CIFAR-10 Batch 4:  Loss:     0.1853 Validation Accuracy: 0.712000\n",
      "Epoch 43, CIFAR-10 Batch 5:  Loss:     0.1786 Validation Accuracy: 0.718600\n",
      "Epoch 44, CIFAR-10 Batch 1:  Loss:     0.1880 Validation Accuracy: 0.716800\n"
     ]
    },
    {
     "name": "stdout",
     "output_type": "stream",
     "text": [
      "Epoch 44, CIFAR-10 Batch 2:  Loss:     0.1841 Validation Accuracy: 0.699600\n",
      "Epoch 44, CIFAR-10 Batch 3:  Loss:     0.1745 Validation Accuracy: 0.711400\n",
      "Epoch 44, CIFAR-10 Batch 4:  Loss:     0.1727 Validation Accuracy: 0.714400\n",
      "Epoch 44, CIFAR-10 Batch 5:  Loss:     0.1752 Validation Accuracy: 0.711600\n",
      "Epoch 45, CIFAR-10 Batch 1:  Loss:     0.1944 Validation Accuracy: 0.708600\n",
      "Epoch 45, CIFAR-10 Batch 2:  Loss:     0.1779 Validation Accuracy: 0.698200\n",
      "Epoch 45, CIFAR-10 Batch 3:  Loss:     0.1522 Validation Accuracy: 0.713800\n",
      "Epoch 45, CIFAR-10 Batch 4:  Loss:     0.1770 Validation Accuracy: 0.709400\n",
      "Epoch 45, CIFAR-10 Batch 5:  Loss:     0.2025 Validation Accuracy: 0.694000\n",
      "Epoch 46, CIFAR-10 Batch 1:  Loss:     0.1944 Validation Accuracy: 0.708000\n",
      "Epoch 46, CIFAR-10 Batch 2:  Loss:     0.1663 Validation Accuracy: 0.709800\n",
      "Epoch 46, CIFAR-10 Batch 3:  Loss:     0.1560 Validation Accuracy: 0.716000\n",
      "Epoch 46, CIFAR-10 Batch 4:  Loss:     0.1775 Validation Accuracy: 0.710200\n",
      "Epoch 46, CIFAR-10 Batch 5:  Loss:     0.1774 Validation Accuracy: 0.704400\n",
      "Epoch 47, CIFAR-10 Batch 1:  Loss:     0.1763 Validation Accuracy: 0.706600\n",
      "Epoch 47, CIFAR-10 Batch 2:  Loss:     0.1700 Validation Accuracy: 0.710800\n",
      "Epoch 47, CIFAR-10 Batch 3:  Loss:     0.1634 Validation Accuracy: 0.712200\n",
      "Epoch 47, CIFAR-10 Batch 4:  Loss:     0.1573 Validation Accuracy: 0.709200\n",
      "Epoch 47, CIFAR-10 Batch 5:  Loss:     0.1462 Validation Accuracy: 0.716200\n",
      "Epoch 48, CIFAR-10 Batch 1:  Loss:     0.1674 Validation Accuracy: 0.708800\n",
      "Epoch 48, CIFAR-10 Batch 2:  Loss:     0.1829 Validation Accuracy: 0.698800\n",
      "Epoch 48, CIFAR-10 Batch 3:  Loss:     0.1667 Validation Accuracy: 0.703800\n",
      "Epoch 48, CIFAR-10 Batch 4:  Loss:     0.1549 Validation Accuracy: 0.708200\n",
      "Epoch 48, CIFAR-10 Batch 5:  Loss:     0.1432 Validation Accuracy: 0.713400\n",
      "Epoch 49, CIFAR-10 Batch 1:  Loss:     0.1459 Validation Accuracy: 0.715800\n",
      "Epoch 49, CIFAR-10 Batch 2:  Loss:     0.1378 Validation Accuracy: 0.710800\n",
      "Epoch 49, CIFAR-10 Batch 3:  Loss:     0.1241 Validation Accuracy: 0.720400\n",
      "Epoch 49, CIFAR-10 Batch 4:  Loss:     0.1192 Validation Accuracy: 0.716600\n",
      "Epoch 49, CIFAR-10 Batch 5:  Loss:     0.1182 Validation Accuracy: 0.715600\n",
      "Epoch 50, CIFAR-10 Batch 1:  Loss:     0.1316 Validation Accuracy: 0.720000\n",
      "Epoch 50, CIFAR-10 Batch 2:  Loss:     0.1277 Validation Accuracy: 0.715000\n",
      "Epoch 50, CIFAR-10 Batch 3:  Loss:     0.1146 Validation Accuracy: 0.722000\n",
      "Epoch 50, CIFAR-10 Batch 4:  Loss:     0.1101 Validation Accuracy: 0.717000\n",
      "Epoch 50, CIFAR-10 Batch 5:  Loss:     0.1102 Validation Accuracy: 0.716200\n"
     ]
    }
   ],
   "source": [
    "\"\"\"\n",
    "DON'T MODIFY ANYTHING IN THIS CELL\n",
    "\"\"\"\n",
    "save_model_path = './image_classification'\n",
    "\n",
    "print('Training...')\n",
    "with tf.Session() as sess:\n",
    "    # Initializing the variables\n",
    "    sess.run(tf.global_variables_initializer())\n",
    "    \n",
    "    # Training cycle\n",
    "    for epoch in range(epochs):\n",
    "        # Loop over all batches\n",
    "        n_batches = 5\n",
    "        for batch_i in range(1, n_batches + 1):\n",
    "            for batch_features, batch_labels in helper.load_preprocess_training_batch(batch_i, batch_size):\n",
    "                train_neural_network(sess, optimizer, keep_probability, batch_features, batch_labels)\n",
    "            print('Epoch {:>2}, CIFAR-10 Batch {}:  '.format(epoch + 1, batch_i), end='')\n",
    "            print_stats(sess, batch_features, batch_labels, cost, accuracy)\n",
    "            \n",
    "    # Save Model\n",
    "    saver = tf.train.Saver()\n",
    "    save_path = saver.save(sess, save_model_path)"
   ]
  },
  {
   "cell_type": "markdown",
   "metadata": {},
   "source": [
    "# Checkpoint\n",
    "The model has been saved to disk.\n",
    "## Test Model\n",
    "Test your model against the test dataset.  This will be your final accuracy. You should have an accuracy greater than 50%. If you don't, keep tweaking the model architecture and parameters."
   ]
  },
  {
   "cell_type": "code",
   "execution_count": 22,
   "metadata": {},
   "outputs": [
    {
     "name": "stdout",
     "output_type": "stream",
     "text": [
      "INFO:tensorflow:Restoring parameters from ./image_classification\n",
      "Testing Accuracy: 0.7099167108535767\n",
      "\n"
     ]
    },
    {
     "data": {
      "image/png": "[encoded data removed]",
      "text/plain": [
       "<matplotlib.figure.Figure at 0x7f5cb22fb0b8>"
      ]
     },
     "metadata": {
      "image/png": {
       "height": 319,
       "width": 355
      }
     },
     "output_type": "display_data"
    }
   ],
   "source": [
    "\"\"\"\n",
    "DON'T MODIFY ANYTHING IN THIS CELL\n",
    "\"\"\"\n",
    "%matplotlib inline\n",
    "%config InlineBackend.figure_format = 'retina'\n",
    "\n",
    "import tensorflow as tf\n",
    "import pickle\n",
    "import helper\n",
    "import random\n",
    "\n",
    "# Set batch size if not already set\n",
    "try:\n",
    "    if batch_size:\n",
    "        pass\n",
    "except NameError:\n",
    "    batch_size = 64\n",
    "\n",
    "save_model_path = './image_classification'\n",
    "n_samples = 4\n",
    "top_n_predictions = 3\n",
    "\n",
    "def test_model():\n",
    "    \"\"\"\n",
    "    Test the saved model against the test dataset\n",
    "    \"\"\"\n",
    "\n",
    "    test_features, test_labels = pickle.load(open('preprocess_training.p', mode='rb'))\n",
    "    loaded_graph = tf.Graph()\n",
    "\n",
    "    with tf.Session(graph=loaded_graph) as sess:\n",
    "        # Load model\n",
    "        loader = tf.train.import_meta_graph(save_model_path + '.meta')\n",
    "        loader.restore(sess, save_model_path)\n",
    "\n",
    "        # Get Tensors from loaded model\n",
    "        loaded_x = loaded_graph.get_tensor_by_name('x:0')\n",
    "        loaded_y = loaded_graph.get_tensor_by_name('y:0')\n",
    "        loaded_keep_prob = loaded_graph.get_tensor_by_name('keep_prob:0')\n",
    "        loaded_logits = loaded_graph.get_tensor_by_name('logits:0')\n",
    "        loaded_acc = loaded_graph.get_tensor_by_name('accuracy:0')\n",
    "        \n",
    "        # Get accuracy in batches for memory limitations\n",
    "        test_batch_acc_total = 0\n",
    "        test_batch_count = 0\n",
    "        \n",
    "        for test_feature_batch, test_label_batch in helper.batch_features_labels(test_features, test_labels, batch_size):\n",
    "            test_batch_acc_total += sess.run(\n",
    "                loaded_acc,\n",
    "                feed_dict={loaded_x: test_feature_batch, loaded_y: test_label_batch, loaded_keep_prob: 1.0})\n",
    "            test_batch_count += 1\n",
    "\n",
    "        print('Testing Accuracy: {}\\n'.format(test_batch_acc_total/test_batch_count))\n",
    "\n",
    "        # Print Random Samples\n",
    "        random_test_features, random_test_labels = tuple(zip(*random.sample(list(zip(test_features, test_labels)), n_samples)))\n",
    "        random_test_predictions = sess.run(\n",
    "            tf.nn.top_k(tf.nn.softmax(loaded_logits), top_n_predictions),\n",
    "            feed_dict={loaded_x: random_test_features, loaded_y: random_test_labels, loaded_keep_prob: 1.0})\n",
    "        helper.display_image_predictions(random_test_features, random_test_labels, random_test_predictions)\n",
    "\n",
    "\n",
    "test_model()"
   ]
  },
  {
   "cell_type": "markdown",
   "metadata": {},
   "source": [
    "## Why 50-80% Accuracy?\n",
    "You might be wondering why you can't get an accuracy any higher. First things first, 50% isn't bad for a simple CNN.  Pure guessing would get you 10% accuracy. However, you might notice people are getting scores [well above 80%](http://rodrigob.github.io/are_we_there_yet/build/classification_datasets_results.html#43494641522d3130).  That's because we haven't taught you all there is to know about neural networks. We still need to cover a few more techniques.\n",
    "## Submitting This Project\n",
    "When submitting this project, make sure to run all the cells before saving the notebook.  Save the notebook file as \"dlnd_image_classification.ipynb\" and save it as a HTML file under \"File\" -> \"Download as\".  Include the \"helper.py\" and \"problem_unittests.py\" files in your submission."
   ]
  }
 ],
 "metadata": {
  "kernelspec": {
   "display_name": "Python 3",
   "language": "python",
   "name": "python3"
  },
  "language_info": {
   "codemirror_mode": {
    "name": "ipython",
    "version": 3
   },
   "file_extension": ".py",
   "mimetype": "text/x-python",
   "name": "python",
   "nbconvert_exporter": "python",
   "pygments_lexer": "ipython3",
   "version": "3.5.3"
  }
 },
 "nbformat": 4,
 "nbformat_minor": 1
}
